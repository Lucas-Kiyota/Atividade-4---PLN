{
  "nbformat": 4,
  "nbformat_minor": 0,
  "metadata": {
    "colab": {
      "provenance": [],
      "include_colab_link": true
    },
    "kernelspec": {
      "name": "python3",
      "display_name": "Python 3"
    }
  },
  "cells": [
    {
      "cell_type": "markdown",
      "metadata": {
        "id": "view-in-github",
        "colab_type": "text"
      },
      "source": [
        "<a href=\"https://colab.research.google.com/github/Lucas-Kiyota/Atividade-4---PLN/blob/main/(GRUPO_25)_2023_Q3_PLN_ATIVIDADE_PR%C3%81TICA_04.ipynb\" target=\"_parent\"><img src=\"https://colab.research.google.com/assets/colab-badge.svg\" alt=\"Open In Colab\"/></a>"
      ]
    },
    {
      "cell_type": "markdown",
      "metadata": {
        "id": "Y6QILOdpOjwv"
      },
      "source": [
        "# **Processamento de Linguagem Natural [2023.Q3]**\n",
        "Prof. Alexandre Donizeti Alves"
      ]
    },
    {
      "cell_type": "markdown",
      "metadata": {
        "id": "8m67OOx9MX_3"
      },
      "source": [
        "### **ATIVIDADE PRÁTICA 04 [Uso da API da OpenAI com técnicas de PLN]**\n"
      ]
    },
    {
      "cell_type": "markdown",
      "metadata": {
        "id": "5Gk0nHKabBT-"
      },
      "source": [
        "A **ATIVIDADE PRÁTICA 04** deve ser feita utilizando o **Google Colab** com uma conta sua vinculada ao Gmail. O link do seu notebook, armazenado no Google Drive, além do link de um repositório no GitHub e os principais resultados da atividade, devem ser enviados usando o seguinte formulário:\n",
        "\n",
        "> https://forms.gle/GzwCq3R7ExtE9g9a8\n",
        "\n",
        "\n",
        "**IMPORTANTE**: A submissão deve ser feita até o dia **26/11 (domingo)** APENAS POR UM INTEGRANTE DA EQUIPE, até às 23h59. Por favor, lembre-se de dar permissão de ACESSO IRRESTRITO para o professor da disciplina de PLN."
      ]
    },
    {
      "cell_type": "markdown",
      "metadata": {
        "id": "D7hJlilKM485"
      },
      "source": [
        "### **EQUIPE**\n",
        "\n",
        "---"
      ]
    },
    {
      "cell_type": "markdown",
      "source": [
        "**POR FAVOR, PREENCHER OS INTEGRANDES DA SUA EQUIPE:**\n",
        "\n",
        "\n",
        "**Integrante 01:**\n",
        "\n",
        "`Gustavo Diogo Silva, 11201920321`\n",
        "\n",
        "**Integrante 02:**\n",
        "\n",
        "`Renan Jordany Marin da Silva, 11201921448`\n",
        "\n",
        "**Integrante 03:**\n",
        "\n",
        "`Lucas Kiyota da Costa, 11201921852`"
      ],
      "metadata": {
        "id": "tnIArN0QY-Ek"
      }
    },
    {
      "cell_type": "markdown",
      "source": [
        "### **LIVRO**\n",
        "---"
      ],
      "metadata": {
        "id": "6yExhaebs-nD"
      }
    },
    {
      "cell_type": "markdown",
      "source": [
        "`Processamento de Linguagem Natural - Conceitos, Técnicas e Aplicações em Português.`\n",
        "\n",
        ">\n",
        "\n",
        "Disponível gratuitamente em:\n",
        "  \n",
        "  > https://brasileiraspln.com/livro-pln/1a-edicao/.\n",
        "\n",
        "\n",
        "**POR FAVOR, PREENCHER OS CAPITULOS SELECIONADOS PARA A SUA EQUIPE:**\n",
        "\n",
        "`Primeiro capítulo: 12`\n",
        "\n",
        "`Segundo capítulo: 13`\n",
        "\n"
      ],
      "metadata": {
        "id": "DjJM_qhEZRy6"
      }
    },
    {
      "cell_type": "markdown",
      "metadata": {
        "id": "EtjgWQRzNphL"
      },
      "source": [
        "### **DESCRIÇÃO**\n",
        "---"
      ]
    },
    {
      "cell_type": "markdown",
      "source": [
        "Implementar um `notebook` no `Google Colab` que faça uso da **API da OpenAI** aplicando, no mínimo, 3 técnicas de PLN. As técnicas devem ser aplicadas nos 2 (DOIS) capítulos do livro **Processamento de Linguagem Natural - Conceitos, Técnicas e Aplicações em Português**.\n",
        "\n",
        ">\n",
        "\n",
        "**RESTRIÇÃO**: É obrigatório usar o *endpoint* \"*`Chat Completions`*\".\n",
        "\n",
        ">\n",
        "\n",
        "As seguintes técnicas de PLN podem ser usadas:\n",
        "\n",
        "*   Correção Gramatical\n",
        "*   Classificação de Textos\n",
        "*   Análise de Sentimentos\n",
        "*   Detecção de Emoções\n",
        "*   Extração de Palavras-chave\n",
        "*   Tradução de Textos\n",
        "*   Sumarização de Textos\n",
        "*   **Similaridade de Textos**\n",
        "*   **Reconhecimento de Entidades Nomeadas**\n",
        "*   **Sistemas de Perguntas e Respostas**\n",
        "\n",
        ">\n",
        "\n",
        "Os capítulos devem ser os mesmos selecionados na **ATIVIDADE PRÁTICA 02**. Para consultar os capítulos, considere a seguinte planilha:\n",
        "\n",
        ">\n",
        "\n",
        "> https://docs.google.com/spreadsheets/d/1ZutzQ3v1OJgsgzCvCwxXlRIQ3ChXNlHNvB63JQvYsbo/edit?usp=sharing\n",
        "\n",
        ">\n",
        ">\n",
        "\n",
        "**IMPORTANTE:** É obrigatório usar o e-mail da UFABC. Não é permitido alterar os capítulos já selecionados.\n",
        "\n"
      ],
      "metadata": {
        "id": "fXTwkiiGs2BV"
      }
    },
    {
      "cell_type": "markdown",
      "source": [
        "### **CRITÉRIOS DE AVALIAÇÃO**\n",
        "---\n"
      ],
      "metadata": {
        "id": "gWsBYQNtxmum"
      }
    },
    {
      "cell_type": "markdown",
      "source": [
        "Serão considerados como critérios de avaliação as técnicas usadas e a criatividade envolvida na aplicação das mesmas.\n",
        "\n",
        "\n"
      ],
      "metadata": {
        "id": "5iHdx4BXYruQ"
      }
    },
    {
      "cell_type": "markdown",
      "source": [
        "### **IMPLEMENTAÇÃO**\n",
        "---"
      ],
      "metadata": {
        "id": "nw09lujGvfjc"
      }
    },
    {
      "cell_type": "code",
      "execution_count": 3,
      "metadata": {
        "colab": {
          "base_uri": "https://localhost:8080/"
        },
        "id": "sjLmc6Yr1a2B",
        "outputId": "74c2a7dc-ec1e-4a6d-8224-f942f914f2f3"
      },
      "outputs": [
        {
          "output_type": "stream",
          "name": "stdout",
          "text": [
            "Requirement already satisfied: openai==0.28.1 in /usr/local/lib/python3.10/dist-packages (0.28.1)\n",
            "Requirement already satisfied: cohere in /usr/local/lib/python3.10/dist-packages (4.36)\n",
            "Requirement already satisfied: tiktoken in /usr/local/lib/python3.10/dist-packages (0.5.1)\n",
            "Requirement already satisfied: requests>=2.20 in /usr/local/lib/python3.10/dist-packages (from openai==0.28.1) (2.31.0)\n",
            "Requirement already satisfied: tqdm in /usr/local/lib/python3.10/dist-packages (from openai==0.28.1) (4.66.1)\n",
            "Requirement already satisfied: aiohttp in /usr/local/lib/python3.10/dist-packages (from openai==0.28.1) (3.8.6)\n",
            "Requirement already satisfied: backoff<3.0,>=2.0 in /usr/local/lib/python3.10/dist-packages (from cohere) (2.2.1)\n",
            "Requirement already satisfied: fastavro==1.8.2 in /usr/local/lib/python3.10/dist-packages (from cohere) (1.8.2)\n",
            "Requirement already satisfied: importlib_metadata<7.0,>=6.0 in /usr/local/lib/python3.10/dist-packages (from cohere) (6.8.0)\n",
            "Requirement already satisfied: urllib3<3,>=1.26 in /usr/local/lib/python3.10/dist-packages (from cohere) (2.0.7)\n",
            "Requirement already satisfied: regex>=2022.1.18 in /usr/local/lib/python3.10/dist-packages (from tiktoken) (2023.6.3)\n",
            "Requirement already satisfied: attrs>=17.3.0 in /usr/local/lib/python3.10/dist-packages (from aiohttp->openai==0.28.1) (23.1.0)\n",
            "Requirement already satisfied: charset-normalizer<4.0,>=2.0 in /usr/local/lib/python3.10/dist-packages (from aiohttp->openai==0.28.1) (3.3.2)\n",
            "Requirement already satisfied: multidict<7.0,>=4.5 in /usr/local/lib/python3.10/dist-packages (from aiohttp->openai==0.28.1) (6.0.4)\n",
            "Requirement already satisfied: async-timeout<5.0,>=4.0.0a3 in /usr/local/lib/python3.10/dist-packages (from aiohttp->openai==0.28.1) (4.0.3)\n",
            "Requirement already satisfied: yarl<2.0,>=1.0 in /usr/local/lib/python3.10/dist-packages (from aiohttp->openai==0.28.1) (1.9.2)\n",
            "Requirement already satisfied: frozenlist>=1.1.1 in /usr/local/lib/python3.10/dist-packages (from aiohttp->openai==0.28.1) (1.4.0)\n",
            "Requirement already satisfied: aiosignal>=1.1.2 in /usr/local/lib/python3.10/dist-packages (from aiohttp->openai==0.28.1) (1.3.1)\n",
            "Requirement already satisfied: zipp>=0.5 in /usr/local/lib/python3.10/dist-packages (from importlib_metadata<7.0,>=6.0->cohere) (3.17.0)\n",
            "Requirement already satisfied: idna<4,>=2.5 in /usr/local/lib/python3.10/dist-packages (from requests>=2.20->openai==0.28.1) (3.4)\n",
            "Requirement already satisfied: certifi>=2017.4.17 in /usr/local/lib/python3.10/dist-packages (from requests>=2.20->openai==0.28.1) (2023.7.22)\n",
            "API da OpenAI instalada!\n"
          ]
        }
      ],
      "source": [
        "#@title Instalando a biblioteca da API da OpenAI\n",
        "\n",
        "!pip install openai==0.28.1 cohere tiktoken\n",
        "import openai\n",
        "print(\"API da OpenAI instalada!\")"
      ]
    },
    {
      "cell_type": "code",
      "execution_count": 69,
      "metadata": {
        "id": "lKCJiyiP-UaU"
      },
      "outputs": [],
      "source": [
        "#@title Definindo a chave da API\n",
        "\n",
        "# Listagem 1.5 - Configuração da chave de acesso da API a partir do upload de um arquivo de texto\n",
        "# Aqui nós preferimos utilizar a opção \"Secrets\" do COLAB, que é a mais indicada, pois fica criptografada.\n",
        "import openai\n",
        "from google.colab import userdata\n",
        "\n",
        "openai.api_key = userdata.get('CHAVE_API_PLN')"
      ]
    },
    {
      "cell_type": "code",
      "execution_count": 60,
      "metadata": {
        "colab": {
          "base_uri": "https://localhost:8080/"
        },
        "id": "iz8DO2GyJdge",
        "outputId": "d9168cdd-01ab-4cd8-bdd9-a49243a896a8"
      },
      "outputs": [
        {
          "output_type": "stream",
          "name": "stdout",
          "text": [
            " com milhões de pessoas e culturas diversas\n"
          ]
        }
      ],
      "source": [
        "#@title Teste conexão API\n",
        "\n",
        "# Listagem 1.6 - Trecho de código em Python para gerar uma resposta de texto\n",
        "\n",
        "resposta = openai.Completion.create(\n",
        "   model = \"text-davinci-003\",\n",
        "   prompt = \"O Brasil é um país\"\n",
        ")\n",
        "\n",
        "print(resposta.choices[0].text)"
      ]
    },
    {
      "cell_type": "code",
      "source": [
        "#@title Extração de Palavras-chave\n",
        "\n",
        "import requests\n",
        "from bs4 import BeautifulSoup\n",
        "import openai\n",
        "\n",
        "def baixar_html(url):\n",
        "    response = requests.get(url)\n",
        "    if response.status_code == 200:\n",
        "        return response.content\n",
        "    else:\n",
        "        return None\n",
        "\n",
        "def main():\n",
        "    urls = [\n",
        "      \"https://brasileiraspln.com/livro-pln/1a-edicao/parte6/cap12/cap12.html\",\n",
        "      \"https://brasileiraspln.com/livro-pln/1a-edicao/parte6/cap13/cap13.html\"\n",
        "    ]\n",
        "\n",
        "    todas_palavras_chave = []\n",
        "\n",
        "    for url in urls:\n",
        "      html = baixar_html(url)\n",
        "\n",
        "      if html is not None:\n",
        "          capitulo = \"12\" if url == \"https://brasileiraspln.com/livro-pln/1a-edicao/parte6/cap12/cap12.html\" else \"13\"\n",
        "\n",
        "          print(f\"============== CAPÍTULO {capitulo} ==============\")\n",
        "\n",
        "          # Analisar o conteúdo HTML\n",
        "          soup = BeautifulSoup(html, 'html.parser')\n",
        "\n",
        "          tags = soup.find_all(['section', 'p']) if capitulo == \"12\" else soup.find_all(['main', 'p'], attrs={'class': ['content']})\n",
        "\n",
        "          for tag in tags:\n",
        "              text_content = tag.text.strip()\n",
        "\n",
        "              # Dividir o texto em pedaços de 1000 tokens\n",
        "              tokens = text_content.split()\n",
        "              for i in range(0, len(tokens), 1000):\n",
        "                  pedaco = ' '.join(tokens[i:i+1000])\n",
        "\n",
        "                  # Verificar se o tamanho do pedaço é menor que um certo limite\n",
        "                  if len(pedaco.split()) < 100:\n",
        "                      continue\n",
        "\n",
        "                  # Use o endpoint \"Chat Completions\" para extrair palavras-chave do pedaço de texto\n",
        "                  response = openai.ChatCompletion.create(\n",
        "                    model=\"gpt-3.5-turbo\",\n",
        "                    messages=[\n",
        "                          {\"role\": \"system\", \"content\": \"Você é um assistente que extrai palavras-chave de um texto.\"},\n",
        "                          {\"role\": \"user\", \"content\": f\"Quais são as palavras-chave do seguinte texto: '{pedaco}'\"},\n",
        "                      ]\n",
        "                  )\n",
        "\n",
        "                  # Pegue apenas as primeiras 5 palavras-chave\n",
        "                  palavras_chave = response['choices'][0]['message']['content'].split()[:5]\n",
        "\n",
        "                  # Adicione as palavras-chave à lista de todas as palavras-chave\n",
        "                  todas_palavras_chave.extend(palavras_chave)\n",
        "\n",
        "    print(f\"\\nTodas as palavras-chave: {', '.join(todas_palavras_chave)}\")\n",
        "\n",
        "main()"
      ],
      "metadata": {
        "colab": {
          "base_uri": "https://localhost:8080/"
        },
        "id": "QBwNUwFmol1G",
        "outputId": "8b438f97-dc54-4820-95ee-529f28da902f"
      },
      "execution_count": null,
      "outputs": [
        {
          "output_type": "stream",
          "name": "stdout",
          "text": [
            "============== CAPÍTULO 12 ==============\n"
          ]
        }
      ]
    },
    {
      "cell_type": "code",
      "execution_count": 66,
      "metadata": {
        "colab": {
          "base_uri": "https://localhost:8080/",
          "height": 1000
        },
        "id": "ZrxMdIyZ-I7Q",
        "outputId": "8a9c80e8-0e3d-4632-d92b-001465a7e6aa"
      },
      "outputs": [
        {
          "output_type": "stream",
          "name": "stdout",
          "text": [
            "\n",
            "Tradução: 12.1 Introduction In the process of constructing meaning in language use, interlocutors negotiate the discourse universe they speak of, choosing to refer to one or more individuals whose identity they establish and from which they ensure existence (Neves, 2013). These referents, materialized in the text through referential expressions, will permeate it entirely, ensuring thematic unity - that is, the coherence that constitutes a text (Vieira; Faraco, 2019). Referring to something or someone in the world is an action intrinsically linked to interaction, in which discourse objects are constituted, that is, entities that constitute terms of predication, entities derived from a mental construction, and not from a real world (Neves, 2013). The construction of referents is done through chains of text, referential networks constructed by discourse objects that constitute marks of textuality. A chain of reference, or referential chain, corresponds to the notion of anaphoric chain and cohesive chain (Roncarati, 2010). Cohesive links in a text are essential semantic and lexico-grammatical mechanisms for text weaving. Referents are linked through relationships of meaning that form the basis for references in a text (Roncarati, 2010). In this sense, cohesive chains connect referents to their referential expression(s), where the threads that weave the text are articulated through procedures and resources - what we call textual cohesion (Vieira; Faraco, 2019). These are elements whose cohesive grammatical mechanisms are in agreement, whether through repetition (or recapitulation), association (or connections of meaning between the words present), or through connection between clauses (through connectors) (Antunes, 2007), which ensure that the text is coherent throughout. Therefore, if in a given text we have a given entity, like \"Maria,\" a proper name, it is expected that her referents will be identified by lexical-semantic relationships in the text, such as, for example, by pronouns, \"she,\" or by noun phrases, \"the teacher,\" \"the activist,\" \"the woman,\" etc.\n",
            "\n",
            "Tradução: In the process of constructing meaning in language in use, interlocutors negotiate the discursive universe they are speaking of, choosing to refer to one or several individuals whose identity they establish and whose existence they ensure (Neves, 2013). These referents, materialized in the text by referential expressions, will permeate it entirely, ensuring thematic unity - that is, the coherence that constitutes a text (Vieira; Faraco, 2019). Making reference to something or someone in the world is an intrinsically linked action to interaction, in which discourse objects are constituted, i.e., entities that constitute predications, entities derived from a mental construction, and not from a real world (Neves, 2013).\n",
            "\n",
            "Tradução: The construction of referents takes place through chains of text, reference networks built by discourse objects that constitute the marks of textuality. A chain of reference, or referential chain, corresponds to the notion of anaphoric chain and cohesive chain (Roncarati, 2010). Cohesive links in a text are essential semantic and lexical-grammatical mechanisms for textual cohesion. Referents are connected through meaning relationships that form the basis for textual references (Roncarati, 2010). In this sense, cohesive chains link referents to their referential expression(s), where the threads that weave the text are articulated through procedures and resources - what we call textual cohesion (Vieira; Faraco, 2019). These are elements whose cohesive grammatical mechanisms are in line, whether through reiteration (or reference), association (or sense connections between the words present), or connection between clauses (through connectors) (Antunes, 2007), which ensure that the text is coherent throughout. Therefore, if in a given text we have a given entity, like \"Maria,\" a proper name, it can be expected that its referents will be detected through the text's lexical-semantic relations, for example: through pronouns, \"she,\" or through noun phrases, \"the teacher,\" \"the activist,\" \"the woman,\" etc.\n",
            "\n",
            "Tradução: 12.2 Coreference Resolution Coreference Resolution from texts is a useful task and also one of the main challenges in the field of Natural Language Processing (NLP). This is because this task depends on various levels of processing, such as syntactic and morphological analysis, extraction of nominal phrases, among others. In the literature, we find several initiatives for the Portuguese language that address this problem, usually separated between anaphora resolution (Basso, 2009; Bick, 2010; Ferradeira, 1993; Rocha, 2000; Vieira et al., 2005) and the study of nominal coreference (Fonseca, 2014; Fonseca; Vieira; Vanin, 2016a; Fonseca; Vieira; Vanin, 2014; Freitas et al., 2009). Coreference Resolution consists of identifying the different forms that the same mention can assume in a discourse. In other words, this process consists of identifying certain terms and expressions that refer to the same reference. In the sentence presented in Example 12.1, we can say that [the only country in the European Union that does not allow gene patenting] is a coreference of [France], in the same way that [the EU] is a coreference of [the European Union]. By grouping these terms, we form groups of referential mentions, better known as coreference chains. Example 12.1 France resists as the only country in the European Union that does not allow gene patenting. The EU... In this section, we will see the definitions of concepts strongly related to the task of Coreference Resolution, such as referents, named entities, nominal phrases, among other definitions. 12.2.1 Referents Referents, or mentions, can be defined as terms that we use to refer to a certain entity in a discourse. In a text, these references can appear as a specific named entity or as part of a nominal phrase. 12.2.1.1 Named Entities Named entities, roughly speaking, are elements that can be referenced through proper names (Jurafsky; Martin, 2023). These proper names can be configured into specific classes, such as: Person (names of people), Organization (names of companies), Location (names of places), among others. Through the examples below, we can identify several named entities (NEs), such as National Bank for Economic and Social Development (a), Apple (b), names of music bands (c). The National Bank for Economic and Social Development (BNDES), a federal public company, is today the main instrument for long-term financing... Apple announced that it sold 5 million iPhone 5 in just one weekend... Several black metal bands were influenced by punk, such as Venom, Celtic Frost, Bathory, Sarcófago, Darkthrone, Impaled, Nazarene, Mayhem, Hellhammer, Behemoth, among others... 12.2.1.2 Nominal Phrases They are units formed by one or more words that, together, play a specific syntactic function in the sentence (Chapter 6). The nature of a phrase depends directly on the element that constitutes its core. In this chapter, we focus on mentions expressed by nominal phrases. That being said, we have nominal phrases, whose cores can be a common noun, a proper noun, or a pronoun. Pronouns can appear basically in the forms of personal pronouns, demonstrative pronouns, indefinite pronouns, possessive pronouns, or relative pronouns. A nominal phrase is usually composed of a determiner (article, demonstrative pronoun, indefinite pronoun, and cardinal numeral) followed by a noun. For example, in the sentence from Example 12.2 \"The specialist\" is a nominal phrase, and the article \"The\" is its determiner. Through the determiner of a phrase, valuable information can be extracted. That is, the word \"specialist\" itself can assume different roles. However, \"The specialist\" qualifies a male person, besides informing who the specialist is (only one, not two or more). Note that the determiner carries useful information for linguistic processing. Example 12.2 The specialist did not answer all the questions. However, nominal phrases can be configured into just nouns as in Example 12.3, where we have two nominal phrases without explicit determiner: \"Rio de Janeiro\" and \"marvelous city\". Respectively, a proper name and a common noun followed by its adnominal adjunct. Sometimes, this adjunct can be predicative. Example 12.3 Rio de Janeiro, marvelous city To understand the difference between adnominal adjunct and predicative, we just need to observe that a term can sometimes function as an adjunct and sometimes as a predicative. That is, while the adnominal adjunct represents the accessory term of the sentence, the predicative reveals itself as an essential term, in order to make it understandable and meaningful. In d), \"health and safety reference\" represents an essential part of the constitution of the statement, as without the presence of these terms, understanding would be compromised. Thus, we consider it a predicative, since it attributes a characteristic to the subject, whose core is represented by \"city\". The city that is a reference in health and safety. In e), we note that the term \"clean\" can be easily removed from the sentence without causing any harm to the perfect understanding of the discourse. Therefore, it is an accessory term of the sentence or adnominal adjunct. The clean city that is a reference in health and safety. 12.2.1.3 Types of Referents There are three types of referents: specific referents, non-specific referents, and abstract referents. Specific referents: When the mention of an entity basically identifies it through a common or proper noun. Microsoft announced that it will fix the bug that restarts Windows Phone in December. Luiz Inácio Lula da Silva sanctioned today, Wednesday, the law that regulates the activities of motorcycle taxis and couriers throughout the country... Roger Waters performs his second show in Sao Paulo. In (f) we have a specific referent, that is, the mention of the entity refers directly to something specific, the company Microsoft. The specific referent, in this case, can also be classified as an Organization entity type. There are other types of specific referents, such as Person (g), Location (h), among others. Note that in (h) we have two types of specific referents, \"Roger Waters\" and \"Sao Paulo\", respectively Person and Location entities. Non-specific referents: When the mentions refer to an entity in a non-specific way (authorities, employees, police...), as shown in the examples \"i\", \"j\", and \"k\". Police invaded the house, but the criminals had already fled... Employees are...\n",
            "\n",
            "Tradução: discontented. They also claim they have not received their thirteenth salary. Authorities said they are tired of making the same statements. Abstract references: as the name itself suggests, they are abstract entities, \"non-physical\". They deal with states and qualities, feelings and actions, such as fear, travel, courage, happiness, effort... Examples \"l\" and \"m\". Fear is something that must be overcome. To do so, focus on your goals. The trip was great, but the weather could have been better. 12.2.2 Referential Semantic Relations This subsection focuses on clarifying the types of semantic relations that can indicate a co-reference relationship. 12.2.2.1 Hypernymy and Hyponymy Hypernymy is a semantic relationship that expresses a broad sense between two terms, starting from a broader class to a more specific subclass, for example: (insect bee). In this case, the term \"insect\" is a hypernym of \"bee\". On the other hand, hyponymy represents the opposite relationship, starting from a more specific class to a more general class. For the previously given example, we have that \"bee\" is a hyponym of \"insect\". Hypernyms and hyponyms are important in the semantic field, as they are often used to refer back to elements in a text in order to avoid unnecessary repetitions. Regarding the identification of referential mentions in a discourse, in Portuguese it is common to start from specific terms to more general terms. Thus, the hyponymy relationship usually occurs more frequently. João and Maria are very happy with their dog. The animal is loyal and companion. None of this will make them change cars. The small vehicle seems to meet all their needs. 12.2.2.2 Synonymy This is a relationship between two terms in which, although lexically distinct, they have very close meanings, for example: (boy lad). It is important to note that synonyms can often have different connotations, depending on the context, such as: (cat pussycat) and (cat attractive). In a text, the use of synonyms of a word is important to avoid repetitions. Thus, a synonym is a word that, although different, has the same (or similar) meaning and therefore, its inclusion does not alter the meaning of the text in question. This car is wonderful. Also, we are talking about a 100 thousand reais car. Ana bought a cat. The kitty loves sleeping on the couch. 12.2.3 Co-reference, Anaphora, and Cataphora To understand what co-reference is, it is also relevant to define anaphora, as their concepts are related. Anaphora can be defined as the repetition of an expression previously mentioned in a text. When an entity is mentioned for the first time in text, we have the invocation of the entity. During the reading of the text sequence, when that entity is mentioned again, we have the realization of access to that entity. The expression that accesses it is called anaphoric, and the previous expression is called its antecedent (Vieira, Gonçalves, Souza, 2012). There are cases of anaphora in which the anaphoric term and the antecedent are co-referential, that is, they refer to the same entity (as examples \"r\" and \"s\" illustrate), but there are also cases of anaphora without co-reference, as we can see in \"t\". Ana bought a dog. The animal already knows every corner of the house. In this example, the anaphoric term is the noun phrase \"the animal\", which reiterates the referential value of the antecedent, \"the dog\". It is the relationship between \"dog\" and \"animal\" that supports co-reference. Maria has a fever. I think she is sick. Note that the referential interpretation of the noun phrase \"she\" depends on its anaphoric relationship with the noun phrase \"Maria\". João turns 18 on July 2nd, 2001. The next day, he embarks on a big trip across Europe. In this case, the referential value of the underlined expression is constructed based on the interpretation of the antecedent, the temporal adverbial expression \"on July 2nd, 2001\". Thus, \"The next day\" refers to July 3rd, 2001. Cataphora: similar to anaphora but in the opposite order, cataphoric relationship occurs when a term refers to another that comes later and gives it its meaning. As we can see in example \"u\": The mother looked at him and said: - My son, you look tired. Co-reference: it is a phenomenon that occurs when two or more mentions in a discourse refer to the same entity. The set of mentions to the same entity in the text is called a co-reference chain. João is sick. I saw him last week. In this case, the pronoun \"him\" is an anaphor of \"João\", because in order to be understood, it needs to retrieve the previous sentence in order to construct its meaning. There is also a type called apposition, which occurs when the term in the clause relates to an entity to clarify it or explain it, as in examples \"w\" and \"x\". Cubatão, the most polluted city in Brazil, is located in Baixada Santista. Maria bought various fruits: papaya, watermelon, avocado, and grapes. Usually, the apposition appears isolated by punctuation marks, most commonly surrounded by commas or introduced by colons. In the examples above, we can see that \"city\" is co-referential with \"Cubatão\", and \"papaya, watermelon, avocado, and grapes\" are co-referential with \"fruits\". (extracted from the Summ-it corpus (Collovini et al., 2007)) \"The discussion about national biotechnology is biased, as it is being understood as synonymous with transgenics. This opinion is held by Miguel Guerra, from UFSC (Federal University of Santa Catarina). Guerra participated in the debate \"Biotechnology for Sustainable Agriculture\"... According to the agronomist, Brazil should seek the development of transgenics that try to improve the conditions of local agriculture...\" In example \"y\", the expressions \"Guerra\" and \"the agronomist\" refer to the entity \"Miguel Guerra\", previously mentioned in the text. In order to avoid repeating the same expression, a different one is used that refers to the same previously mentioned entity. This is a method commonly used in the writing process to avoid repetition and is directly related to referential and sequential cohesion. Note that referential cohesion is responsible for creating a system of'\n",
            "\n",
            "Tradução: relationships between mentions within a text, allowing the reader to identify terms and expressions that refer to the same entity. Along with that, we also have sequential cohesion, which is responsible for creating conditions that assist in textual progression. In general, tense inflections, verb mode inflections, and conjunctions are mechanisms responsible for sequential cohesion and assist in referential cohesion. These factors directly influence the difficulties in the task of coreference resolution, given that they are directly related to linguistic issues and complex human cognitive abilities that are difficult to reproduce by computational systems. In a few words, the challenge is: how to computationally infer that the word \"agrônomo\" (agronomist), which is mentioned two paragraphs below the expression \"o agrônomo Miguel Guerra\" (agronomist Miguel Guerra), is referring to this entity and not another one? Therefore, the set of these referential expressions relative to the same world entity is called a coreference chain. This set is responsible for the cohesive construction of a text and therefore its importance, as cohesion is responsible for textual comprehension. In the example \"y\", we can affirm that \"Miguel Guerra\" is the antecedent and \"Guerra\" is the anaphora. In this way, coreferent expressions refer to the same entity, while anaphoric and cataphoric expressions can either refer back to a reference or activate a new referent. Anaphora and cataphora presuppose an ordered pair, while coreference refers to the idea of a set (Poesio; Stuckardt; Versley, 2016). 12.2.4 Endophoric and Exophoric References When dealing with referential relationships, it is important to make it clear that they can be divided into two types: endophoric and exophoric references. Endophoric references are those that precede or succeed information within a text. These commonly occur in the form of anaphoras or cataphoras, as seen in the previous examples. Exophoric relationships, on the other hand, refer to relationships that occur outside of a given text and require prior knowledge of the world, location, or moment to be identified, as in: \"O Bruxo do Cosme Velho foi homenageado em nossa cidade\" (The Wizard of Cosme Velho was honored in our city). Notice that in example \"z\", there are no references to the terms \"Bruxo do Cosme Velho\" and \"nossa cidade\" (our city). It is necessary to rely on world knowledge to infer that \"Bruxo do Cosme Velho\" refers to Machado de Assis. Similarly, the reference of the term \"nossa cidade\" is not in the text, but it may be in the reader's or writer's memory. 12.2.5 Coreference, Coherence, and Cohesion When dealing with coreference resolution, there are characteristics that are usually implicit in well-written and structured texts but deserve attention, as they directly influence achieving good results. In this context, we have textual coherence and cohesion. According to Koch; Travaglia (2012), textual coherence is something that relates to the good formation of the text, not in a grammatical sense, but at the level of interlocution. Coherence is something that is established in interaction, in interlocution, or in a communicative situation between two people. In a few words, coherence is what makes the text make sense and should be seen as a principle of interpretability of the text, as well as the reader's ability to calculate its meaning. Coherence is also seen as a continuity of perceptible meanings in the text, which results in a cognitive conceptual connection between the elements of the text. As we can perceive, coherence is at the same time semantic and pragmatic, as the way we construct our ideas may vary according to our world knowledge. In parallel with the concept of coherence, we have cohesion. Unlike coherence, cohesion is explicitly revealed through linguistic markers and is of a linear nature, as it manifests in the sequential organization of a text. In a few words, cohesion is much more related to syntax and grammar. Notice that these concepts are very important for the task of Coreference Resolution since the coreference of a term and its antecedent is guided by this construction of ideas.\n",
            "\n",
            "Tradução: Coreference Resolution from texts is a useful task and also one of the main challenges in Natural Language Processing (NLP). This is because this task relies on various levels of processing, such as syntactic and morphological analysis, extraction of nominal phrases, among others. In the literature, we find several initiatives for the Portuguese language that address this problem, usually separated between anaphora resolution (Basso, 2009; Bick, 2010; Ferradeira, 1993; Rocha, 2000; Vieira et al., 2005) and the study of nominal coreference (Fonseca, 2014; Fonseca; Vieira; Vanin, 2016a; Fonseca; Vieira; Vanin, 2014; Freitas et al., 2009). Coreference Resolution consists of identifying the different forms that a same mention can take in a discourse. In other words, this process consists of identifying certain terms and expressions that refer to the same reference. In the sentence presented in Example 12.1 we can say that [the only country in the European Union not to allow gene patenting] is a coreference of [France], just as [The EU] is a coreference of [the European Union]. By grouping these terms, we form groups of referential mentions, better known as coreference chains.\n",
            "\n",
            "Tradução: 12.2.1 References\n",
            "References, or mentions, can be defined as terms we use to refer to a particular entity in a discourse. In a text, these references can appear as a specific named entity or as a constituent part of a noun phrase.\n",
            "\n",
            "12.2.1.1 Named Entities\n",
            "Named entities, broadly speaking, are elements that can be referenced by means of proper names (Jurafsky; Martin, 2023). These proper names can be categorized into specific classes, such as Person (names of people), Organization (names of companies), Location (names of places), among others. Through the examples below, we can identify several named entities (NEs), such as Banco Nacional de Desenvolvimento Econômico e Social (a), Apple (b), and names of music bands (c).\n",
            "\n",
            "The Banco Nacional de Desenvolvimento Econômico e Social (BNDES), a federal public company, is now the main instrument for long-term financing… Apple reported selling 5 million iPhone 5's in just one weekend… Several black metal bands have been influenced by punk, such as Venom, Celtic Frost, Bathory, Sarcófago, Darkthrone, Impaled, Nazarene, Mayhem, Hellhammer, Behemoth, among others…\n",
            "\n",
            "12.2.1.2 Noun Phrases\n",
            "They are units formed by one or more words that together perform a specific syntactic function in a sentence (Chapter 6). The nature of a phrase depends directly on the element that constitutes its core. In this chapter, we focus on mentions expressed by noun phrases. That being said, noun phrases can have cores that consist of a common noun, proper noun, or a pronoun. Pronouns can represent, basically, personal pronouns, demonstrative pronouns, indefinite pronouns, possessive pronouns, or relative pronouns. A noun phrase is generally composed of a determiner (article, demonstrative pronoun, indefinite pronoun, and cardinal numeral) followed by a noun. For example, in Example 12.2, \"The specialist\" is a noun phrase, and the article \"The\" is its determiner. Through the determiner of a phrase, valuable information can be extracted. That is, the word \"specialist\" by itself can assume different roles. However, \"The specialist\" qualifies a male person, in addition to informing who the specialist is (only one, not two or more). Note that the determiner carries useful information for linguistic processing.\n",
            "\n",
            "Example 12.2 The specialist did not answer all the questions.\n",
            "\n",
            "However, noun phrases can consist of just nouns, as in Example 12.3, where we have two noun phrases without an explicit determiner: \"Rio de Janeiro\" and \"marvelous city\". Respectively, a proper noun and a common noun followed by its adnominal adjunct. Sometimes, this adjunct can be a predicative.\n",
            "\n",
            "Example 12.3 Rio de Janeiro, marvelous city\n",
            "\n",
            "To understand the difference between an adnominal adjunct and a predicative, it is enough to observe that at times a term can perform the function of an adjunct, while at other times, it functions as a predicative. That is, while the adnominal adjunct represents an accessory term of the clause, the predicative reveals itself as an essential term, in order to make it understandable and meaningful. In d), \"reference in health and safety\" represents an essential part of the constitution of the statement since without the presence of these terms, understanding would be compromised. Thus, we consider it a predicative, as it attributes a characteristic to the subject, whose core is represented by \"city\". The city that is a reference in health and safety. In e), we see that the term \"clean\" can be perfectly removed from the sentence without causing any harm to the perfect understanding of the discourse. Therefore, it is an accessory term of the clause or an adnominal adjunct. The clean city that is a reference in health and safety.\n",
            "\n",
            "12.2.1.3 Types of Referents\n",
            "There are three types of referents: specific referents, non-specific referents, and abstract referents. Specific referents: When the mention of an entity basically identifies it through a common or proper name. Microsoft announced that it will fix the bug that restarts the Windows Phone in December. Luiz Inácio Lula da Silva sanctioned on this Wednesday, the 29th, the law that regulates the activities of motorcycle taxi drivers and deliverymen throughout the country... Roger Waters is performing his second show in São Paulo. In f), we have a specific referent, that is, the mention of the entity directly refers to something specific, the company Microsoft. The specific referent, in this case, can also be classified as an Organization entity. There are other types of specific referents, such as Person (g), Location (h), among others. Note that in h) we have two types of specific referents, \"Roger Waters\" and \"São Paulo\", respectively entities of the Person and Location types. Non-specific referents: When the mentions refer to an entity in a non-specific way (authorities, employees, police officers...), as shown in examples \"i\", \"j\" and \"k\". The police officers invaded the house, but the criminals had already fled… Employees are unhappy. They claim that they have not yet received their thirteenth salary. Authorities said they are tired of making the same declarations. Abstract referents: as the name suggests, these are abstract entities, \"non-physical\". They deal with states and qualities, feelings and actions, such as: fear, travel, courage, happiness, effort... Examples \"l\" and \"m\". Fear is something that must be overcome. To do this, focus on your goals. The trip was great, but the weather could have been better.\n",
            "\n",
            "Tradução: 12.2.1.1 Named Entities Named entities, roughly speaking, are elements that can be referenced by proper names (Jurafsky; Martin, 2023). These proper names can fall into specific classes, such as: Person (names of people), Organization (names of companies), Location (names of places), among others. Through the examples below, we can identify several named entities (NEs), such as Banco Nacional de Desenvolvimento Econômico e Social (a), Apple (b), names of music bands (c). Banco Nacional de Desenvolvimento Econômico e Social (BNDES), a federal public company, is today the main instrument for long-term financing... Apple reported selling 5 million iPhone 5s in just one weekend... Several black metal bands were influenced by punk, such as Venom, Celtic Frost, Bathory, Sarcófago, Darkthrone, Impaled, Nazarene, Mayhem, Hellhammer, Behemoth, among others...\n"
          ]
        },
        {
          "output_type": "error",
          "ename": "KeyboardInterrupt",
          "evalue": "ignored",
          "traceback": [
            "\u001b[0;31m---------------------------------------------------------------------------\u001b[0m",
            "\u001b[0;31mKeyboardInterrupt\u001b[0m                         Traceback (most recent call last)",
            "\u001b[0;32m<ipython-input-66-aee37716446e>\u001b[0m in \u001b[0;36m<cell line: 56>\u001b[0;34m()\u001b[0m\n\u001b[1;32m     54\u001b[0m           \u001b[0mprint\u001b[0m\u001b[0;34m(\u001b[0m\u001b[0;34mf\"Não foi possível baixar o conteúdo HTML da URL: {url}\"\u001b[0m\u001b[0;34m)\u001b[0m\u001b[0;34m\u001b[0m\u001b[0;34m\u001b[0m\u001b[0m\n\u001b[1;32m     55\u001b[0m \u001b[0;34m\u001b[0m\u001b[0m\n\u001b[0;32m---> 56\u001b[0;31m \u001b[0mmain\u001b[0m\u001b[0;34m(\u001b[0m\u001b[0;34m)\u001b[0m\u001b[0;34m\u001b[0m\u001b[0;34m\u001b[0m\u001b[0m\n\u001b[0m",
            "\u001b[0;32m<ipython-input-66-aee37716446e>\u001b[0m in \u001b[0;36mmain\u001b[0;34m()\u001b[0m\n\u001b[1;32m     39\u001b[0m \u001b[0;34m\u001b[0m\u001b[0m\n\u001b[1;32m     40\u001b[0m                   \u001b[0;31m# Use o endpoint \"Chat Completions\" para traduzir o pedaço de texto\u001b[0m\u001b[0;34m\u001b[0m\u001b[0;34m\u001b[0m\u001b[0m\n\u001b[0;32m---> 41\u001b[0;31m                   response = openai.ChatCompletion.create(\n\u001b[0m\u001b[1;32m     42\u001b[0m                     \u001b[0mmodel\u001b[0m\u001b[0;34m=\u001b[0m\u001b[0;34m\"gpt-3.5-turbo\"\u001b[0m\u001b[0;34m,\u001b[0m\u001b[0;34m\u001b[0m\u001b[0;34m\u001b[0m\u001b[0m\n\u001b[1;32m     43\u001b[0m                     messages=[\n",
            "\u001b[0;32m/usr/local/lib/python3.10/dist-packages/openai/api_resources/chat_completion.py\u001b[0m in \u001b[0;36mcreate\u001b[0;34m(cls, *args, **kwargs)\u001b[0m\n\u001b[1;32m     23\u001b[0m         \u001b[0;32mwhile\u001b[0m \u001b[0;32mTrue\u001b[0m\u001b[0;34m:\u001b[0m\u001b[0;34m\u001b[0m\u001b[0;34m\u001b[0m\u001b[0m\n\u001b[1;32m     24\u001b[0m             \u001b[0;32mtry\u001b[0m\u001b[0;34m:\u001b[0m\u001b[0;34m\u001b[0m\u001b[0;34m\u001b[0m\u001b[0m\n\u001b[0;32m---> 25\u001b[0;31m                 \u001b[0;32mreturn\u001b[0m \u001b[0msuper\u001b[0m\u001b[0;34m(\u001b[0m\u001b[0;34m)\u001b[0m\u001b[0;34m.\u001b[0m\u001b[0mcreate\u001b[0m\u001b[0;34m(\u001b[0m\u001b[0;34m*\u001b[0m\u001b[0margs\u001b[0m\u001b[0;34m,\u001b[0m \u001b[0;34m**\u001b[0m\u001b[0mkwargs\u001b[0m\u001b[0;34m)\u001b[0m\u001b[0;34m\u001b[0m\u001b[0;34m\u001b[0m\u001b[0m\n\u001b[0m\u001b[1;32m     26\u001b[0m             \u001b[0;32mexcept\u001b[0m \u001b[0mTryAgain\u001b[0m \u001b[0;32mas\u001b[0m \u001b[0me\u001b[0m\u001b[0;34m:\u001b[0m\u001b[0;34m\u001b[0m\u001b[0;34m\u001b[0m\u001b[0m\n\u001b[1;32m     27\u001b[0m                 \u001b[0;32mif\u001b[0m \u001b[0mtimeout\u001b[0m \u001b[0;32mis\u001b[0m \u001b[0;32mnot\u001b[0m \u001b[0;32mNone\u001b[0m \u001b[0;32mand\u001b[0m \u001b[0mtime\u001b[0m\u001b[0;34m.\u001b[0m\u001b[0mtime\u001b[0m\u001b[0;34m(\u001b[0m\u001b[0;34m)\u001b[0m \u001b[0;34m>\u001b[0m \u001b[0mstart\u001b[0m \u001b[0;34m+\u001b[0m \u001b[0mtimeout\u001b[0m\u001b[0;34m:\u001b[0m\u001b[0;34m\u001b[0m\u001b[0;34m\u001b[0m\u001b[0m\n",
            "\u001b[0;32m/usr/local/lib/python3.10/dist-packages/openai/api_resources/abstract/engine_api_resource.py\u001b[0m in \u001b[0;36mcreate\u001b[0;34m(cls, api_key, api_base, api_type, request_id, api_version, organization, **params)\u001b[0m\n\u001b[1;32m    153\u001b[0m         )\n\u001b[1;32m    154\u001b[0m \u001b[0;34m\u001b[0m\u001b[0m\n\u001b[0;32m--> 155\u001b[0;31m         response, _, api_key = requestor.request(\n\u001b[0m\u001b[1;32m    156\u001b[0m             \u001b[0;34m\"post\"\u001b[0m\u001b[0;34m,\u001b[0m\u001b[0;34m\u001b[0m\u001b[0;34m\u001b[0m\u001b[0m\n\u001b[1;32m    157\u001b[0m             \u001b[0murl\u001b[0m\u001b[0;34m,\u001b[0m\u001b[0;34m\u001b[0m\u001b[0;34m\u001b[0m\u001b[0m\n",
            "\u001b[0;32m/usr/local/lib/python3.10/dist-packages/openai/api_requestor.py\u001b[0m in \u001b[0;36mrequest\u001b[0;34m(self, method, url, params, headers, files, stream, request_id, request_timeout)\u001b[0m\n\u001b[1;32m    287\u001b[0m         \u001b[0mrequest_timeout\u001b[0m\u001b[0;34m:\u001b[0m \u001b[0mOptional\u001b[0m\u001b[0;34m[\u001b[0m\u001b[0mUnion\u001b[0m\u001b[0;34m[\u001b[0m\u001b[0mfloat\u001b[0m\u001b[0;34m,\u001b[0m \u001b[0mTuple\u001b[0m\u001b[0;34m[\u001b[0m\u001b[0mfloat\u001b[0m\u001b[0;34m,\u001b[0m \u001b[0mfloat\u001b[0m\u001b[0;34m]\u001b[0m\u001b[0;34m]\u001b[0m\u001b[0;34m]\u001b[0m \u001b[0;34m=\u001b[0m \u001b[0;32mNone\u001b[0m\u001b[0;34m,\u001b[0m\u001b[0;34m\u001b[0m\u001b[0;34m\u001b[0m\u001b[0m\n\u001b[1;32m    288\u001b[0m     ) -> Tuple[Union[OpenAIResponse, Iterator[OpenAIResponse]], bool, str]:\n\u001b[0;32m--> 289\u001b[0;31m         result = self.request_raw(\n\u001b[0m\u001b[1;32m    290\u001b[0m             \u001b[0mmethod\u001b[0m\u001b[0;34m.\u001b[0m\u001b[0mlower\u001b[0m\u001b[0;34m(\u001b[0m\u001b[0;34m)\u001b[0m\u001b[0;34m,\u001b[0m\u001b[0;34m\u001b[0m\u001b[0;34m\u001b[0m\u001b[0m\n\u001b[1;32m    291\u001b[0m             \u001b[0murl\u001b[0m\u001b[0;34m,\u001b[0m\u001b[0;34m\u001b[0m\u001b[0;34m\u001b[0m\u001b[0m\n",
            "\u001b[0;32m/usr/local/lib/python3.10/dist-packages/openai/api_requestor.py\u001b[0m in \u001b[0;36mrequest_raw\u001b[0;34m(self, method, url, params, supplied_headers, files, stream, request_id, request_timeout)\u001b[0m\n\u001b[1;32m    604\u001b[0m             \u001b[0m_thread_context\u001b[0m\u001b[0;34m.\u001b[0m\u001b[0msession_create_time\u001b[0m \u001b[0;34m=\u001b[0m \u001b[0mtime\u001b[0m\u001b[0;34m.\u001b[0m\u001b[0mtime\u001b[0m\u001b[0;34m(\u001b[0m\u001b[0;34m)\u001b[0m\u001b[0;34m\u001b[0m\u001b[0;34m\u001b[0m\u001b[0m\n\u001b[1;32m    605\u001b[0m         \u001b[0;32mtry\u001b[0m\u001b[0;34m:\u001b[0m\u001b[0;34m\u001b[0m\u001b[0;34m\u001b[0m\u001b[0m\n\u001b[0;32m--> 606\u001b[0;31m             result = _thread_context.session.request(\n\u001b[0m\u001b[1;32m    607\u001b[0m                 \u001b[0mmethod\u001b[0m\u001b[0;34m,\u001b[0m\u001b[0;34m\u001b[0m\u001b[0;34m\u001b[0m\u001b[0m\n\u001b[1;32m    608\u001b[0m                 \u001b[0mabs_url\u001b[0m\u001b[0;34m,\u001b[0m\u001b[0;34m\u001b[0m\u001b[0;34m\u001b[0m\u001b[0m\n",
            "\u001b[0;32m/usr/local/lib/python3.10/dist-packages/requests/sessions.py\u001b[0m in \u001b[0;36mrequest\u001b[0;34m(self, method, url, params, data, headers, cookies, files, auth, timeout, allow_redirects, proxies, hooks, stream, verify, cert, json)\u001b[0m\n\u001b[1;32m    587\u001b[0m         }\n\u001b[1;32m    588\u001b[0m         \u001b[0msend_kwargs\u001b[0m\u001b[0;34m.\u001b[0m\u001b[0mupdate\u001b[0m\u001b[0;34m(\u001b[0m\u001b[0msettings\u001b[0m\u001b[0;34m)\u001b[0m\u001b[0;34m\u001b[0m\u001b[0;34m\u001b[0m\u001b[0m\n\u001b[0;32m--> 589\u001b[0;31m         \u001b[0mresp\u001b[0m \u001b[0;34m=\u001b[0m \u001b[0mself\u001b[0m\u001b[0;34m.\u001b[0m\u001b[0msend\u001b[0m\u001b[0;34m(\u001b[0m\u001b[0mprep\u001b[0m\u001b[0;34m,\u001b[0m \u001b[0;34m**\u001b[0m\u001b[0msend_kwargs\u001b[0m\u001b[0;34m)\u001b[0m\u001b[0;34m\u001b[0m\u001b[0;34m\u001b[0m\u001b[0m\n\u001b[0m\u001b[1;32m    590\u001b[0m \u001b[0;34m\u001b[0m\u001b[0m\n\u001b[1;32m    591\u001b[0m         \u001b[0;32mreturn\u001b[0m \u001b[0mresp\u001b[0m\u001b[0;34m\u001b[0m\u001b[0;34m\u001b[0m\u001b[0m\n",
            "\u001b[0;32m/usr/local/lib/python3.10/dist-packages/requests/sessions.py\u001b[0m in \u001b[0;36msend\u001b[0;34m(self, request, **kwargs)\u001b[0m\n\u001b[1;32m    701\u001b[0m \u001b[0;34m\u001b[0m\u001b[0m\n\u001b[1;32m    702\u001b[0m         \u001b[0;31m# Send the request\u001b[0m\u001b[0;34m\u001b[0m\u001b[0;34m\u001b[0m\u001b[0m\n\u001b[0;32m--> 703\u001b[0;31m         \u001b[0mr\u001b[0m \u001b[0;34m=\u001b[0m \u001b[0madapter\u001b[0m\u001b[0;34m.\u001b[0m\u001b[0msend\u001b[0m\u001b[0;34m(\u001b[0m\u001b[0mrequest\u001b[0m\u001b[0;34m,\u001b[0m \u001b[0;34m**\u001b[0m\u001b[0mkwargs\u001b[0m\u001b[0;34m)\u001b[0m\u001b[0;34m\u001b[0m\u001b[0;34m\u001b[0m\u001b[0m\n\u001b[0m\u001b[1;32m    704\u001b[0m \u001b[0;34m\u001b[0m\u001b[0m\n\u001b[1;32m    705\u001b[0m         \u001b[0;31m# Total elapsed time of the request (approximately)\u001b[0m\u001b[0;34m\u001b[0m\u001b[0;34m\u001b[0m\u001b[0m\n",
            "\u001b[0;32m/usr/local/lib/python3.10/dist-packages/requests/adapters.py\u001b[0m in \u001b[0;36msend\u001b[0;34m(self, request, stream, timeout, verify, cert, proxies)\u001b[0m\n\u001b[1;32m    484\u001b[0m \u001b[0;34m\u001b[0m\u001b[0m\n\u001b[1;32m    485\u001b[0m         \u001b[0;32mtry\u001b[0m\u001b[0;34m:\u001b[0m\u001b[0;34m\u001b[0m\u001b[0;34m\u001b[0m\u001b[0m\n\u001b[0;32m--> 486\u001b[0;31m             resp = conn.urlopen(\n\u001b[0m\u001b[1;32m    487\u001b[0m                 \u001b[0mmethod\u001b[0m\u001b[0;34m=\u001b[0m\u001b[0mrequest\u001b[0m\u001b[0;34m.\u001b[0m\u001b[0mmethod\u001b[0m\u001b[0;34m,\u001b[0m\u001b[0;34m\u001b[0m\u001b[0;34m\u001b[0m\u001b[0m\n\u001b[1;32m    488\u001b[0m                 \u001b[0murl\u001b[0m\u001b[0;34m=\u001b[0m\u001b[0murl\u001b[0m\u001b[0;34m,\u001b[0m\u001b[0;34m\u001b[0m\u001b[0;34m\u001b[0m\u001b[0m\n",
            "\u001b[0;32m/usr/local/lib/python3.10/dist-packages/urllib3/connectionpool.py\u001b[0m in \u001b[0;36murlopen\u001b[0;34m(self, method, url, body, headers, retries, redirect, assert_same_host, timeout, pool_timeout, release_conn, chunked, body_pos, preload_content, decode_content, **response_kw)\u001b[0m\n\u001b[1;32m    789\u001b[0m \u001b[0;34m\u001b[0m\u001b[0m\n\u001b[1;32m    790\u001b[0m             \u001b[0;31m# Make the request on the HTTPConnection object\u001b[0m\u001b[0;34m\u001b[0m\u001b[0;34m\u001b[0m\u001b[0m\n\u001b[0;32m--> 791\u001b[0;31m             response = self._make_request(\n\u001b[0m\u001b[1;32m    792\u001b[0m                 \u001b[0mconn\u001b[0m\u001b[0;34m,\u001b[0m\u001b[0;34m\u001b[0m\u001b[0;34m\u001b[0m\u001b[0m\n\u001b[1;32m    793\u001b[0m                 \u001b[0mmethod\u001b[0m\u001b[0;34m,\u001b[0m\u001b[0;34m\u001b[0m\u001b[0;34m\u001b[0m\u001b[0m\n",
            "\u001b[0;32m/usr/local/lib/python3.10/dist-packages/urllib3/connectionpool.py\u001b[0m in \u001b[0;36m_make_request\u001b[0;34m(self, conn, method, url, body, headers, retries, timeout, chunked, response_conn, preload_content, decode_content, enforce_content_length)\u001b[0m\n\u001b[1;32m    535\u001b[0m         \u001b[0;31m# Receive the response from the server\u001b[0m\u001b[0;34m\u001b[0m\u001b[0;34m\u001b[0m\u001b[0m\n\u001b[1;32m    536\u001b[0m         \u001b[0;32mtry\u001b[0m\u001b[0;34m:\u001b[0m\u001b[0;34m\u001b[0m\u001b[0;34m\u001b[0m\u001b[0m\n\u001b[0;32m--> 537\u001b[0;31m             \u001b[0mresponse\u001b[0m \u001b[0;34m=\u001b[0m \u001b[0mconn\u001b[0m\u001b[0;34m.\u001b[0m\u001b[0mgetresponse\u001b[0m\u001b[0;34m(\u001b[0m\u001b[0;34m)\u001b[0m\u001b[0;34m\u001b[0m\u001b[0;34m\u001b[0m\u001b[0m\n\u001b[0m\u001b[1;32m    538\u001b[0m         \u001b[0;32mexcept\u001b[0m \u001b[0;34m(\u001b[0m\u001b[0mBaseSSLError\u001b[0m\u001b[0;34m,\u001b[0m \u001b[0mOSError\u001b[0m\u001b[0;34m)\u001b[0m \u001b[0;32mas\u001b[0m \u001b[0me\u001b[0m\u001b[0;34m:\u001b[0m\u001b[0;34m\u001b[0m\u001b[0;34m\u001b[0m\u001b[0m\n\u001b[1;32m    539\u001b[0m             \u001b[0mself\u001b[0m\u001b[0;34m.\u001b[0m\u001b[0m_raise_timeout\u001b[0m\u001b[0;34m(\u001b[0m\u001b[0merr\u001b[0m\u001b[0;34m=\u001b[0m\u001b[0me\u001b[0m\u001b[0;34m,\u001b[0m \u001b[0murl\u001b[0m\u001b[0;34m=\u001b[0m\u001b[0murl\u001b[0m\u001b[0;34m,\u001b[0m \u001b[0mtimeout_value\u001b[0m\u001b[0;34m=\u001b[0m\u001b[0mread_timeout\u001b[0m\u001b[0;34m)\u001b[0m\u001b[0;34m\u001b[0m\u001b[0;34m\u001b[0m\u001b[0m\n",
            "\u001b[0;32m/usr/local/lib/python3.10/dist-packages/urllib3/connection.py\u001b[0m in \u001b[0;36mgetresponse\u001b[0;34m(self)\u001b[0m\n\u001b[1;32m    459\u001b[0m \u001b[0;34m\u001b[0m\u001b[0m\n\u001b[1;32m    460\u001b[0m         \u001b[0;31m# Get the response from http.client.HTTPConnection\u001b[0m\u001b[0;34m\u001b[0m\u001b[0;34m\u001b[0m\u001b[0m\n\u001b[0;32m--> 461\u001b[0;31m         \u001b[0mhttplib_response\u001b[0m \u001b[0;34m=\u001b[0m \u001b[0msuper\u001b[0m\u001b[0;34m(\u001b[0m\u001b[0;34m)\u001b[0m\u001b[0;34m.\u001b[0m\u001b[0mgetresponse\u001b[0m\u001b[0;34m(\u001b[0m\u001b[0;34m)\u001b[0m\u001b[0;34m\u001b[0m\u001b[0;34m\u001b[0m\u001b[0m\n\u001b[0m\u001b[1;32m    462\u001b[0m \u001b[0;34m\u001b[0m\u001b[0m\n\u001b[1;32m    463\u001b[0m         \u001b[0;32mtry\u001b[0m\u001b[0;34m:\u001b[0m\u001b[0;34m\u001b[0m\u001b[0;34m\u001b[0m\u001b[0m\n",
            "\u001b[0;32m/usr/lib/python3.10/http/client.py\u001b[0m in \u001b[0;36mgetresponse\u001b[0;34m(self)\u001b[0m\n\u001b[1;32m   1373\u001b[0m         \u001b[0;32mtry\u001b[0m\u001b[0;34m:\u001b[0m\u001b[0;34m\u001b[0m\u001b[0;34m\u001b[0m\u001b[0m\n\u001b[1;32m   1374\u001b[0m             \u001b[0;32mtry\u001b[0m\u001b[0;34m:\u001b[0m\u001b[0;34m\u001b[0m\u001b[0;34m\u001b[0m\u001b[0m\n\u001b[0;32m-> 1375\u001b[0;31m                 \u001b[0mresponse\u001b[0m\u001b[0;34m.\u001b[0m\u001b[0mbegin\u001b[0m\u001b[0;34m(\u001b[0m\u001b[0;34m)\u001b[0m\u001b[0;34m\u001b[0m\u001b[0;34m\u001b[0m\u001b[0m\n\u001b[0m\u001b[1;32m   1376\u001b[0m             \u001b[0;32mexcept\u001b[0m \u001b[0mConnectionError\u001b[0m\u001b[0;34m:\u001b[0m\u001b[0;34m\u001b[0m\u001b[0;34m\u001b[0m\u001b[0m\n\u001b[1;32m   1377\u001b[0m                 \u001b[0mself\u001b[0m\u001b[0;34m.\u001b[0m\u001b[0mclose\u001b[0m\u001b[0;34m(\u001b[0m\u001b[0;34m)\u001b[0m\u001b[0;34m\u001b[0m\u001b[0;34m\u001b[0m\u001b[0m\n",
            "\u001b[0;32m/usr/lib/python3.10/http/client.py\u001b[0m in \u001b[0;36mbegin\u001b[0;34m(self)\u001b[0m\n\u001b[1;32m    316\u001b[0m         \u001b[0;31m# read until we get a non-100 response\u001b[0m\u001b[0;34m\u001b[0m\u001b[0;34m\u001b[0m\u001b[0m\n\u001b[1;32m    317\u001b[0m         \u001b[0;32mwhile\u001b[0m \u001b[0;32mTrue\u001b[0m\u001b[0;34m:\u001b[0m\u001b[0;34m\u001b[0m\u001b[0;34m\u001b[0m\u001b[0m\n\u001b[0;32m--> 318\u001b[0;31m             \u001b[0mversion\u001b[0m\u001b[0;34m,\u001b[0m \u001b[0mstatus\u001b[0m\u001b[0;34m,\u001b[0m \u001b[0mreason\u001b[0m \u001b[0;34m=\u001b[0m \u001b[0mself\u001b[0m\u001b[0;34m.\u001b[0m\u001b[0m_read_status\u001b[0m\u001b[0;34m(\u001b[0m\u001b[0;34m)\u001b[0m\u001b[0;34m\u001b[0m\u001b[0;34m\u001b[0m\u001b[0m\n\u001b[0m\u001b[1;32m    319\u001b[0m             \u001b[0;32mif\u001b[0m \u001b[0mstatus\u001b[0m \u001b[0;34m!=\u001b[0m \u001b[0mCONTINUE\u001b[0m\u001b[0;34m:\u001b[0m\u001b[0;34m\u001b[0m\u001b[0;34m\u001b[0m\u001b[0m\n\u001b[1;32m    320\u001b[0m                 \u001b[0;32mbreak\u001b[0m\u001b[0;34m\u001b[0m\u001b[0;34m\u001b[0m\u001b[0m\n",
            "\u001b[0;32m/usr/lib/python3.10/http/client.py\u001b[0m in \u001b[0;36m_read_status\u001b[0;34m(self)\u001b[0m\n\u001b[1;32m    277\u001b[0m \u001b[0;34m\u001b[0m\u001b[0m\n\u001b[1;32m    278\u001b[0m     \u001b[0;32mdef\u001b[0m \u001b[0m_read_status\u001b[0m\u001b[0;34m(\u001b[0m\u001b[0mself\u001b[0m\u001b[0;34m)\u001b[0m\u001b[0;34m:\u001b[0m\u001b[0;34m\u001b[0m\u001b[0;34m\u001b[0m\u001b[0m\n\u001b[0;32m--> 279\u001b[0;31m         \u001b[0mline\u001b[0m \u001b[0;34m=\u001b[0m \u001b[0mstr\u001b[0m\u001b[0;34m(\u001b[0m\u001b[0mself\u001b[0m\u001b[0;34m.\u001b[0m\u001b[0mfp\u001b[0m\u001b[0;34m.\u001b[0m\u001b[0mreadline\u001b[0m\u001b[0;34m(\u001b[0m\u001b[0m_MAXLINE\u001b[0m \u001b[0;34m+\u001b[0m \u001b[0;36m1\u001b[0m\u001b[0;34m)\u001b[0m\u001b[0;34m,\u001b[0m \u001b[0;34m\"iso-8859-1\"\u001b[0m\u001b[0;34m)\u001b[0m\u001b[0;34m\u001b[0m\u001b[0;34m\u001b[0m\u001b[0m\n\u001b[0m\u001b[1;32m    280\u001b[0m         \u001b[0;32mif\u001b[0m \u001b[0mlen\u001b[0m\u001b[0;34m(\u001b[0m\u001b[0mline\u001b[0m\u001b[0;34m)\u001b[0m \u001b[0;34m>\u001b[0m \u001b[0m_MAXLINE\u001b[0m\u001b[0;34m:\u001b[0m\u001b[0;34m\u001b[0m\u001b[0;34m\u001b[0m\u001b[0m\n\u001b[1;32m    281\u001b[0m             \u001b[0;32mraise\u001b[0m \u001b[0mLineTooLong\u001b[0m\u001b[0;34m(\u001b[0m\u001b[0;34m\"status line\"\u001b[0m\u001b[0;34m)\u001b[0m\u001b[0;34m\u001b[0m\u001b[0;34m\u001b[0m\u001b[0m\n",
            "\u001b[0;32m/usr/lib/python3.10/socket.py\u001b[0m in \u001b[0;36mreadinto\u001b[0;34m(self, b)\u001b[0m\n\u001b[1;32m    703\u001b[0m         \u001b[0;32mwhile\u001b[0m \u001b[0;32mTrue\u001b[0m\u001b[0;34m:\u001b[0m\u001b[0;34m\u001b[0m\u001b[0;34m\u001b[0m\u001b[0m\n\u001b[1;32m    704\u001b[0m             \u001b[0;32mtry\u001b[0m\u001b[0;34m:\u001b[0m\u001b[0;34m\u001b[0m\u001b[0;34m\u001b[0m\u001b[0m\n\u001b[0;32m--> 705\u001b[0;31m                 \u001b[0;32mreturn\u001b[0m \u001b[0mself\u001b[0m\u001b[0;34m.\u001b[0m\u001b[0m_sock\u001b[0m\u001b[0;34m.\u001b[0m\u001b[0mrecv_into\u001b[0m\u001b[0;34m(\u001b[0m\u001b[0mb\u001b[0m\u001b[0;34m)\u001b[0m\u001b[0;34m\u001b[0m\u001b[0;34m\u001b[0m\u001b[0m\n\u001b[0m\u001b[1;32m    706\u001b[0m             \u001b[0;32mexcept\u001b[0m \u001b[0mtimeout\u001b[0m\u001b[0;34m:\u001b[0m\u001b[0;34m\u001b[0m\u001b[0;34m\u001b[0m\u001b[0m\n\u001b[1;32m    707\u001b[0m                 \u001b[0mself\u001b[0m\u001b[0;34m.\u001b[0m\u001b[0m_timeout_occurred\u001b[0m \u001b[0;34m=\u001b[0m \u001b[0;32mTrue\u001b[0m\u001b[0;34m\u001b[0m\u001b[0;34m\u001b[0m\u001b[0m\n",
            "\u001b[0;32m/usr/lib/python3.10/ssl.py\u001b[0m in \u001b[0;36mrecv_into\u001b[0;34m(self, buffer, nbytes, flags)\u001b[0m\n\u001b[1;32m   1272\u001b[0m                   \u001b[0;34m\"non-zero flags not allowed in calls to recv_into() on %s\"\u001b[0m \u001b[0;34m%\u001b[0m\u001b[0;34m\u001b[0m\u001b[0;34m\u001b[0m\u001b[0m\n\u001b[1;32m   1273\u001b[0m                   self.__class__)\n\u001b[0;32m-> 1274\u001b[0;31m             \u001b[0;32mreturn\u001b[0m \u001b[0mself\u001b[0m\u001b[0;34m.\u001b[0m\u001b[0mread\u001b[0m\u001b[0;34m(\u001b[0m\u001b[0mnbytes\u001b[0m\u001b[0;34m,\u001b[0m \u001b[0mbuffer\u001b[0m\u001b[0;34m)\u001b[0m\u001b[0;34m\u001b[0m\u001b[0;34m\u001b[0m\u001b[0m\n\u001b[0m\u001b[1;32m   1275\u001b[0m         \u001b[0;32melse\u001b[0m\u001b[0;34m:\u001b[0m\u001b[0;34m\u001b[0m\u001b[0;34m\u001b[0m\u001b[0m\n\u001b[1;32m   1276\u001b[0m             \u001b[0;32mreturn\u001b[0m \u001b[0msuper\u001b[0m\u001b[0;34m(\u001b[0m\u001b[0;34m)\u001b[0m\u001b[0;34m.\u001b[0m\u001b[0mrecv_into\u001b[0m\u001b[0;34m(\u001b[0m\u001b[0mbuffer\u001b[0m\u001b[0;34m,\u001b[0m \u001b[0mnbytes\u001b[0m\u001b[0;34m,\u001b[0m \u001b[0mflags\u001b[0m\u001b[0;34m)\u001b[0m\u001b[0;34m\u001b[0m\u001b[0;34m\u001b[0m\u001b[0m\n",
            "\u001b[0;32m/usr/lib/python3.10/ssl.py\u001b[0m in \u001b[0;36mread\u001b[0;34m(self, len, buffer)\u001b[0m\n\u001b[1;32m   1128\u001b[0m         \u001b[0;32mtry\u001b[0m\u001b[0;34m:\u001b[0m\u001b[0;34m\u001b[0m\u001b[0;34m\u001b[0m\u001b[0m\n\u001b[1;32m   1129\u001b[0m             \u001b[0;32mif\u001b[0m \u001b[0mbuffer\u001b[0m \u001b[0;32mis\u001b[0m \u001b[0;32mnot\u001b[0m \u001b[0;32mNone\u001b[0m\u001b[0;34m:\u001b[0m\u001b[0;34m\u001b[0m\u001b[0;34m\u001b[0m\u001b[0m\n\u001b[0;32m-> 1130\u001b[0;31m                 \u001b[0;32mreturn\u001b[0m \u001b[0mself\u001b[0m\u001b[0;34m.\u001b[0m\u001b[0m_sslobj\u001b[0m\u001b[0;34m.\u001b[0m\u001b[0mread\u001b[0m\u001b[0;34m(\u001b[0m\u001b[0mlen\u001b[0m\u001b[0;34m,\u001b[0m \u001b[0mbuffer\u001b[0m\u001b[0;34m)\u001b[0m\u001b[0;34m\u001b[0m\u001b[0;34m\u001b[0m\u001b[0m\n\u001b[0m\u001b[1;32m   1131\u001b[0m             \u001b[0;32melse\u001b[0m\u001b[0;34m:\u001b[0m\u001b[0;34m\u001b[0m\u001b[0;34m\u001b[0m\u001b[0m\n\u001b[1;32m   1132\u001b[0m                 \u001b[0;32mreturn\u001b[0m \u001b[0mself\u001b[0m\u001b[0;34m.\u001b[0m\u001b[0m_sslobj\u001b[0m\u001b[0;34m.\u001b[0m\u001b[0mread\u001b[0m\u001b[0;34m(\u001b[0m\u001b[0mlen\u001b[0m\u001b[0;34m)\u001b[0m\u001b[0;34m\u001b[0m\u001b[0;34m\u001b[0m\u001b[0m\n",
            "\u001b[0;31mKeyboardInterrupt\u001b[0m: "
          ]
        }
      ],
      "source": [
        "#@title Tradução de Textos\n",
        "\n",
        "import openai\n",
        "from bs4 import BeautifulSoup\n",
        "import requests\n",
        "\n",
        "def baixar_html(url):\n",
        "    response = requests.get(url)\n",
        "    if response.status_code == 200:\n",
        "        return response.content\n",
        "    else:\n",
        "        return None\n",
        "\n",
        "def main():\n",
        "    urls = [\n",
        "      \"https://brasileiraspln.com/livro-pln/1a-edicao/parte6/cap12/cap12.html\",\n",
        "      \"https://brasileiraspln.com/livro-pln/1a-edicao/parte6/cap13/cap13.html\"\n",
        "    ]\n",
        "\n",
        "    for url in urls:\n",
        "      html = baixar_html(url)\n",
        "\n",
        "      if html is not None:\n",
        "          capitulo = \"12\" if url == \"https://brasileiraspln.com/livro-pln/1a-edicao/parte6/cap12/cap12.html\" else \"13\"\n",
        "\n",
        "          soup = BeautifulSoup(html, 'html.parser')\n",
        "\n",
        "          tags = soup.find_all(['section', 'p']) if capitulo == \"12\" else soup.find_all(['main', 'p'], attrs={'class': ['content']})\n",
        "\n",
        "          for tag in tags:\n",
        "              text_content = tag.text.strip()\n",
        "\n",
        "              tokens = text_content.split()\n",
        "              for i in range(0, len(tokens), 1000):  # Reduzindo o tamanho do pedaço para 1000 tokens\n",
        "                  pedaco = ' '.join(tokens[i:i+1000])\n",
        "\n",
        "                  if len(pedaco.split()) < 100:\n",
        "                      continue\n",
        "\n",
        "                  # Use o endpoint \"Chat Completions\" para traduzir o pedaço de texto\n",
        "                  response = openai.ChatCompletion.create(\n",
        "                    model=\"gpt-3.5-turbo\",\n",
        "                    messages=[\n",
        "                          {\"role\": \"system\", \"content\": \"Você é um assistente que traduz textos do português para o inglês.\"},\n",
        "                          {\"role\": \"user\", \"content\": f\"Por favor, traduza o seguinte texto: '{pedaco}'\"},\n",
        "                      ]\n",
        "                  )\n",
        "\n",
        "                  # Pegue a tradução\n",
        "                  traducao = response['choices'][0]['message']['content']\n",
        "\n",
        "                  print(f\"\\nTradução: {traducao}\")\n",
        "      else:\n",
        "          print(f\"Não foi possível baixar o conteúdo HTML da URL: {url}\")\n",
        "\n",
        "main()"
      ]
    },
    {
      "cell_type": "code",
      "source": [],
      "metadata": {
        "id": "VXZfoJ91j4lV"
      },
      "execution_count": 50,
      "outputs": []
    }
  ]
}